{
 "cells": [
  {
   "cell_type": "code",
   "execution_count": 67,
   "metadata": {
    "colab": {},
    "colab_type": "code",
    "id": "bgRvtY6-0ueM"
   },
   "outputs": [
    {
     "data": {
      "text/plain": [
       "(500, 500)"
      ]
     },
     "execution_count": 67,
     "metadata": {},
     "output_type": "execute_result"
    },
    {
     "data": {
      "image/png": "[encoded data removed]",
      "text/plain": [
       "<Figure size 432x288 with 1 Axes>"
      ]
     },
     "metadata": {},
     "output_type": "display_data"
    }
   ],
   "source": [
    "import math\n",
    "import numpy as np\n",
    "from scipy import signal as sg\n",
    "import scipy\n",
    "import  matplotlib.pyplot as plt\n",
    "import scipy.sparse as spsp\n",
    "from mpl_toolkits.mplot3d import Axes3D\n",
    "#from PIL import Image\n",
    "import time\n",
    "from scipy.ndimage import rotate\n",
    "from mpl_toolkits.mplot3d import Axes3D  \n",
    "from matplotlib import cm\n",
    "from matplotlib.ticker import LinearLocator, FormatStrFormatter\n",
    "\n",
    "\n",
    "def rgb2gray(Img):\n",
    "    return 0.2989 * Img[:,:,0] + 0.5870 * Img[:,:,1] + 0.1140 * Img[:,:,2] \n",
    "\n",
    "def Convol(img):\n",
    "    shape=[5,5]\n",
    "    sigma=1\n",
    "    m,n = (shape[0]-1)/2,(shape[1]-1)/2\n",
    "    y,x = np.ogrid[-m:m+1,-n:n+1]\n",
    "    res = np.exp( -(x*x + y*y) / (2.*sigma*sigma) )\n",
    "    Sum = res.sum()\n",
    "    \n",
    "    \"\"\"normalization\"\"\"\n",
    "    res/=Sum\n",
    "    \n",
    "    return np.array(sg.convolve(img,res,mode=\"same\"))\n",
    "  \n",
    "def gradient(img):\n",
    "    g=np.gradient(img)\n",
    "    \n",
    "    return np.array(g[0]),np.array(g[1])\n",
    "\n",
    "#Create surface\n",
    "\n",
    "def F(x):\n",
    "    return (x*x-4)*(x*x-9)*(x*x-16)/36\n",
    "\n",
    "def f(x):\n",
    "    return 1./18*(3*(x**4)-58*(x*x)+244)*x\n",
    "\n",
    "\n",
    "def initrayure(nbpixels=30):\n",
    "    x = np.linspace(-3.626,3.626,nbpixels)\n",
    "    rayure = F(x)\n",
    "    rayure -= rayure[0]\n",
    "    return rayure\n",
    "\n",
    "def plot3d(Imgrayure):\n",
    "    x,y=Imgrayure.shape\n",
    "    Y = np.arange(0,x/50,0.02)\n",
    "    X = np.arange(0,y/50,0.02)\n",
    "    X, Y = np.meshgrid(X, Y)   \n",
    "    Z = np.array(Imgrayure)\n",
    "    fig = plt.figure()\n",
    "    ax = fig.gca(projection='3d')\n",
    "    \n",
    "    surf = ax.plot_surface(X, Y, Z, cmap=cm.coolwarm,linewidth=0, antialiased=False)\n",
    "    #ax.plot_surface(X,Y,Z, cmap=plt.cm.jet, rstride=1, cstride=1, linewidth=0)\n",
    "    \n",
    "def createrayure(width,length,ifplot=0,angle=45):\n",
    "    rayure = initrayure(width)\n",
    "    Imgrayure = [rayure]\n",
    "    \n",
    "    for i in range(length-1):\n",
    "        Imgrayure=np.concatenate((Imgrayure,[rayure]))\n",
    "   \n",
    "    if angle!=0:\n",
    "        Imgrayure = rotate(Imgrayure, 1.0*angle, reshape=False)\n",
    "    if ifplot:\n",
    "        plt.imshow(Imgrayure, cmap='gray')\n",
    "        plt.axis('off')\n",
    "        plt.xticks([])\n",
    "        plt.yticks([])\n",
    "        plt.tight_layout()\n",
    "      \n",
    "    return Imgrayure\n",
    "\n",
    "#grow a area with value 0 by 1 pixel\n",
    "def grow(u0):\n",
    "    X,Y=u0.shape\n",
    "    res=np.ones_like(u0)\n",
    "    for x in range(1,X-1):\n",
    "        for y in range(1,Y-1):\n",
    "            if u0[x,y]==0:\n",
    "                res[x-1][y-1]=0\n",
    "                res[x-1][y]=0\n",
    "                res[x-1][y+1]=0\n",
    "                res[x][y]=0\n",
    "                res[x][y-1]=0\n",
    "                res[x][y+1]=0\n",
    "                res[x+1][y-1]=0\n",
    "                res[x+1][y]=0\n",
    "                res[x+1][y+1]=0\n",
    "    return res   \n",
    "#save pic with no white margin\n",
    "def savefig(img,name='result.png'):\n",
    "    #1 channel image\n",
    "    fig, ax = plt.subplots() \n",
    "    im = img\n",
    "    ax.imshow(im) \n",
    "    plt.axis('off') \n",
    "\n",
    "    height, width= im.shape \n",
    "    \n",
    "    fig.set_size_inches(width/50.0, height/50.0) \n",
    "    plt.gca().xaxis.set_major_locator(plt.NullLocator()) \n",
    "    plt.gca().yaxis.set_major_locator(plt.NullLocator()) \n",
    "    plt.subplots_adjust(top=1,bottom=0,left=0,right=1,hspace=0,wspace=0) \n",
    "    plt.margins(0,0)\n",
    "\n",
    "    plt.savefig(name)\n",
    "    \n",
    "def create3kimage():\n",
    "    res=np.zeros([3000,3000])\n",
    "    \n",
    "    rayure1=createrayure(50,500,0,30)\n",
    "    [r,c]=rayure1.shape\n",
    "    res[60:60+r,50:50+c]=rayure1/2\n",
    "    \n",
    "    rayure2=createrayure(50,800,0,60)\n",
    "    [r,c]=rayure2.shape\n",
    "    res[260:260+r,1500:1500+c]=rayure2*2\n",
    "    \n",
    "    rayure3=createrayure(100,400,0,-30)\n",
    "    [r,c]=rayure3.shape\n",
    "    res[2600:2600+r,1050:1050+c]=rayure3\n",
    "    \n",
    "    \n",
    "    return res\n",
    "#Imagetest = np.array(create3kimage())\n",
    "Imagetest=createrayure(500,500,1,10)\n",
    "np.savetxt('test.txt',list(Imagetest),fmt='%1.6f')\n",
    "Imagetest.shape"
   ]
  },
  {
   "cell_type": "code",
   "execution_count": 60,
   "metadata": {},
   "outputs": [],
   "source": [
    "a=np.array([[2],[2]])\n",
    "b=np.array([1,2,3,4,5])\n",
    "np.savetxt('test.txt',(list(a)+list(b)),fmt='%1.6f')"
   ]
  },
  {
   "cell_type": "code",
   "execution_count": 38,
   "metadata": {
    "colab": {},
    "colab_type": "code",
    "id": "ZmHI32TdV3zy"
   },
   "outputs": [],
   "source": [
    "def levelset(Iter,nbimg,mu,Img,l=5,init=1,mul=1,ifplot=1):\n",
    "    import time\n",
    "    start = time.clock()\n",
    "    Img = Img.astype(float)\n",
    "    mean=np.mean(Img)\n",
    "    #Img=Img-mean\n",
    "    [row,col] = Img.shape\n",
    "\n",
    "    phi = np.ones([row,col])\n",
    "#   for i in range(0,row,row//k):\n",
    "#       for j in range(0,col,col//k):\n",
    "#         phi[i-l:i+l, j-l:j+l] = -1.\n",
    "  \n",
    "#definition de phi_0\n",
    "    if init==1:    \n",
    "        for i in range(0,row):\n",
    "            for j in range(0,col):\n",
    "                phi[i][j]=np.sin(i/(l*1.))*np.sin(j/(l*1.)) \n",
    "                #phi[i][j]=(-1)**((i+j)//2)\n",
    "                u = phi  \n",
    "    else:\n",
    "        phi[1:row-1,1:col-1] = -1\n",
    "        u=-phi  \n",
    "  \n",
    "  \n",
    "  \n",
    "    k=Iter//nbimg\n",
    "    if ifplot>0:\n",
    "        fig,ax=plt.subplots(nbimg+1,1,figsize=[6,nbimg*3+3])\n",
    "        ax[0].imshow(phi)\n",
    "        ax[0].axis('off')\n",
    "    i=1\n",
    "    for n in range(1,Iter):\n",
    "        ux, uy = gradient(u);\n",
    "\n",
    "        z = np.zeros(u.shape)\n",
    "        M = 0\n",
    "\n",
    "        c1 = np.sum(Img[u<M])/np.sum(1*(u<M))\n",
    "        c2 = np.sum(Img[u>M])/np.sum(1*(u>M))\n",
    "\n",
    "        spf = Img - (c1+mul*c2)/2;\n",
    "        spf = np.array(spf)\n",
    "        spf = spf/(np.max(np.abs(spf)))\n",
    "\n",
    "        u = u + (mu*spf*np.sqrt(ux**2 + uy**2));\n",
    "        \n",
    "        if ifplot>0:\n",
    "            if n%k==0:\n",
    "                ax[i].contour(u, 0,)\n",
    "                ax[i].imshow(u,cmap='gray')\n",
    "                ax[i].axis('off')\n",
    "                i+=1\n",
    "                \n",
    "        u = 1*(u>0) - 1*(u<0)\n",
    "        u = Convol(u)\n",
    "        \n",
    "    if ifplot>0:\n",
    "        ax[i].contour(u, 0)\n",
    "        ax[i].imshow(Img,cmap='gray')\n",
    "        ax[i].axis('off')\n",
    "    end = time.clock()\n",
    "    print(end-start)\n",
    "    \n",
    "    return u"
   ]
  },
  {
   "cell_type": "code",
   "execution_count": 39,
   "metadata": {
    "colab": {},
    "colab_type": "code",
    "id": "Px2QyHuQpYoV"
   },
   "outputs": [
    {
     "name": "stdout",
     "output_type": "stream",
     "text": [
      "93.29780499999993\n"
     ]
    },
    {
     "data": {
      "text/plain": [
       "<matplotlib.contour.QuadContourSet at 0x7f5bb0b9acc0>"
      ]
     },
     "execution_count": 39,
     "metadata": {},
     "output_type": "execute_result"
    },
    {
     "data": {
      "image/png": "[encoded data removed]",
      "text/plain": [
       "<Figure size 432x288 with 1 Axes>"
      ]
     },
     "metadata": {
      "needs_background": "light"
     },
     "output_type": "display_data"
    }
   ],
   "source": [
    "Img3 = plt.imread(\"result.png\")\n",
    "Img3 = rgb2gray(Img3)\n",
    "\n",
    "nbditeration=2\n",
    "nbimage=2\n",
    "amp=100000\n",
    "Imagetest=Img3\n",
    "Phi_base=4\n",
    "mode=1\n",
    "multi=1\n",
    "#ifplot=False\n",
    "ifplot=False\n",
    "\n",
    "u=levelset(nbditeration,nbimage,amp,Imagetest,Phi_base,mode,multi,ifplot)\n",
    "plt.contour(u, 0)"
   ]
  },
  {
   "cell_type": "code",
   "execution_count": 40,
   "metadata": {
    "colab": {
     "base_uri": "https://localhost:8080/",
     "height": 228
    },
    "colab_type": "code",
    "id": "7HVaVOW3IkkY",
    "outputId": "a5870c5c-809a-4a34-f08e-828d9ad450b1"
   },
   "outputs": [
    {
     "data": {
      "image/png": "[encoded data removed]",
      "text/plain": [
       "<Figure size 432x288 with 1 Axes>"
      ]
     },
     "metadata": {
      "needs_background": "light"
     },
     "output_type": "display_data"
    }
   ],
   "source": [
    "#creation d'une rayure\n",
    "\n",
    "width=50\n",
    "length=100\n",
    "ifplot=False\n",
    "angle=10\n",
    "\n",
    "Imagerayure = createrayure(width,length,ifplot,angle)\n",
    "plot3d(Imagerayure)"
   ]
  },
  {
   "cell_type": "code",
   "execution_count": null,
   "metadata": {},
   "outputs": [],
   "source": [
    "savefig(Imagerayure,'res.png')"
   ]
  },
  {
   "cell_type": "code",
   "execution_count": null,
   "metadata": {
    "colab": {
     "base_uri": "https://localhost:8080/",
     "height": 888
    },
    "colab_type": "code",
    "id": "9TESFPUqJbUr",
    "outputId": "40bd396a-70ec-48a1-a45b-f21973ef36ba"
   },
   "outputs": [],
   "source": [
    "Img3 = plt.imread(\"res.png\")\n",
    "Img3 = rgb2gray(Img3)\n",
    "meanImg=np.mean(Img3)\n",
    "\n",
    "u = levelset(20,2,10000,Img3,3,1,1.15,0)\n",
    "ur = levelset(20,2,10000,Img3,3,1,1,0)\n",
    "\n",
    "ur = ur-u\n",
    "\n",
    "u0 = 0*(u>0) +1*(u<0)\n",
    "ur = 1*(ur>0) +0*(ur<0)\n",
    "\n",
    "u1 = grow(u0)\n",
    "u2 = grow(u1)\n",
    "u3 = grow(u2)\n",
    "u4 = grow(u3)\n",
    "u5 = grow(u4)\n",
    "u6 = grow(u5)\n",
    "\n",
    "plt.imshow(u1)\n",
    "plt.imshow(u6)\n",
    "meanImg = np.sum(Img3*ur)/np.sum(ur)\n",
    "\n",
    "newimg3 = u6*Img3+meanImg*(1-u6)"
   ]
  },
  {
   "cell_type": "code",
   "execution_count": null,
   "metadata": {
    "colab": {
     "base_uri": "https://localhost:8080/",
     "height": 301
    },
    "colab_type": "code",
    "id": "Q2Dp_WbsQW_f",
    "outputId": "183256ef-2b4d-4604-c367-baebc0afa2dd"
   },
   "outputs": [],
   "source": [
    "#enlever les fautes\n",
    "plt.imshow(newimg3)\n",
    "plt.show()\n",
    "newimg3.shape\n"
   ]
  },
  {
   "cell_type": "code",
   "execution_count": null,
   "metadata": {
    "colab": {
     "base_uri": "https://localhost:8080/",
     "height": 266
    },
    "colab_type": "code",
    "id": "wScdH5bVWr14",
    "outputId": "e7eeaee2-7eb6-4bd5-80f9-87d7ba1b422e"
   },
   "outputs": [],
   "source": [
    "#surface recunstructed\n",
    "plot3d(newimg3)"
   ]
  },
  {
   "cell_type": "code",
   "execution_count": null,
   "metadata": {},
   "outputs": [],
   "source": []
  }
 ],
 "metadata": {
  "colab": {
   "collapsed_sections": [],
   "name": "ppt countour.ipynb",
   "provenance": [],
   "version": "0.3.2"
  },
  "kernelspec": {
   "display_name": "Python 3",
   "language": "python",
   "name": "python3"
  },
  "language_info": {
   "codemirror_mode": {
    "name": "ipython",
    "version": 3
   },
   "file_extension": ".py",
   "mimetype": "text/x-python",
   "name": "python",
   "nbconvert_exporter": "python",
   "pygments_lexer": "ipython3",
   "version": "3.5.2"
  }
 },
 "nbformat": 4,
 "nbformat_minor": 2
}
